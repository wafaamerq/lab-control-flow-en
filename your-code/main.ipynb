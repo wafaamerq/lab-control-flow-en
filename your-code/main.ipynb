{
  "cells": [
    {
      "cell_type": "markdown",
      "metadata": {
        "id": "SxiPCdtkDpgq"
      },
      "source": [
        "## Words"
      ]
    },
    {
      "cell_type": "code",
      "execution_count": null,
      "metadata": {
        "id": "wbkdD7_YDpgt"
      },
      "outputs": [],
      "source": [
        "words = ['play', 'filling', 'bar', 'theatre', 'easygoing', 'date', 'lead', 'that', 'story',  'island']"
      ]
    },
    {
      "cell_type": "markdown",
      "metadata": {
        "id": "JuiPR_92Dpgu"
      },
      "source": [
        "**Print every word in upper case**"
      ]
    },
    {
      "cell_type": "code",
      "execution_count": 4,
      "metadata": {
        "colab": {
          "base_uri": "https://localhost:8080/"
        },
        "id": "1oZ2AyTBDpgu",
        "outputId": "18d6683d-9d85-4a26-887f-311d389022b7"
      },
      "outputs": [
        {
          "output_type": "stream",
          "name": "stdout",
          "text": [
            "PLAY\n",
            "FILLING\n",
            "BAR\n",
            "THEATRE\n",
            "EASYGOING\n",
            "DATE\n",
            "LEAD\n",
            "THAT\n",
            "STORY\n",
            "ISLAND\n"
          ]
        }
      ],
      "source": [
        "\n",
        "words = ['play', 'filling', 'bar', 'theatre', 'easygoing', 'date', 'lead', 'that', 'story', 'island']\n",
        "\n",
        "for word in words:\n",
        "    print(word.upper())\n",
        "\n"
      ]
    },
    {
      "cell_type": "markdown",
      "metadata": {
        "id": "L4JY0y2kDpgu"
      },
      "source": [
        "**Create a new list containing only words with 5 or more letters**"
      ]
    },
    {
      "cell_type": "code",
      "execution_count": 5,
      "metadata": {
        "colab": {
          "base_uri": "https://localhost:8080/"
        },
        "id": "CfYULVtEDpgu",
        "outputId": "9a2db041-ec9f-4627-b72d-cb90c61ccede"
      },
      "outputs": [
        {
          "output_type": "stream",
          "name": "stdout",
          "text": [
            "['filling', 'theatre', 'easygoing', 'story', 'island']\n"
          ]
        }
      ],
      "source": [
        "\n",
        "words = ['play', 'filling', 'bar', 'theatre', 'easygoing', 'date', 'lead', 'that', 'story', 'island']\n",
        "\n",
        "long_words = [word for word in words if len(word) >= 5]\n",
        "\n",
        "print(long_words)\n"
      ]
    },
    {
      "cell_type": "markdown",
      "metadata": {
        "id": "7Bm3lE7YDpgu"
      },
      "source": [
        "**Print the first word starting with \"t\"**"
      ]
    },
    {
      "cell_type": "code",
      "execution_count": 7,
      "metadata": {
        "colab": {
          "base_uri": "https://localhost:8080/"
        },
        "id": "3pzxVYbfDpgu",
        "outputId": "0c454200-1c4d-499f-f71a-c385090650a3"
      },
      "outputs": [
        {
          "output_type": "stream",
          "name": "stdout",
          "text": [
            "theatre\n",
            "that\n"
          ]
        }
      ],
      "source": [
        "\n",
        "words = ['play', 'filling', 'bar', 'theatre', 'easygoing', 'date', 'lead', 'that', 'story', 'island']\n",
        "\n",
        "\n",
        "for word in words:\n",
        "    if word.startswith('t'):\n",
        "        print(word)\n",
        ""
      ]
    },
    {
      "cell_type": "markdown",
      "metadata": {
        "id": "cyN1-HvcDpgv"
      },
      "source": [
        "## Numbers"
      ]
    },
    {
      "cell_type": "markdown",
      "metadata": {
        "id": "_Die9UoiDpgv"
      },
      "source": [
        "**Create a list containing the square of every number from 1 to 10**"
      ]
    },
    {
      "cell_type": "code",
      "execution_count": 8,
      "metadata": {
        "colab": {
          "base_uri": "https://localhost:8080/"
        },
        "id": "V8Ry9Es-Dpgv",
        "outputId": "142f7085-7037-47cc-c88d-0565c97dc105"
      },
      "outputs": [
        {
          "output_type": "stream",
          "name": "stdout",
          "text": [
            "[1, 4, 9, 16, 25, 36, 49, 64, 81, 100]\n"
          ]
        }
      ],
      "source": [
        "\n",
        "squares = [i**2 for i in range(1, 11)]\n",
        "\n",
        "\n",
        "print(squares)\n"
      ]
    },
    {
      "cell_type": "markdown",
      "metadata": {
        "id": "1bMhkRf0Dpgv"
      },
      "source": [
        "**Print a list containing the square of every odd number from 1 to 10**"
      ]
    },
    {
      "cell_type": "code",
      "execution_count": 9,
      "metadata": {
        "colab": {
          "base_uri": "https://localhost:8080/"
        },
        "id": "l3ctVaicDpgv",
        "outputId": "cd65fa53-c9c3-4fda-998d-3c04cc5c23af"
      },
      "outputs": [
        {
          "output_type": "stream",
          "name": "stdout",
          "text": [
            "[1, 9, 25, 49, 81]\n"
          ]
        }
      ],
      "source": [
        "\n",
        "odd_squares = [i**2 for i in range(1, 11) if i % 2 != 0]\n",
        "\n",
        "print(odd_squares)\n"
      ]
    },
    {
      "cell_type": "markdown",
      "metadata": {
        "id": "jR2uA6Q5Dpgv"
      },
      "source": [
        "**Create a list with the squares of all multiples of 8 below 1000**"
      ]
    },
    {
      "cell_type": "code",
      "execution_count": 10,
      "metadata": {
        "colab": {
          "base_uri": "https://localhost:8080/"
        },
        "id": "Wo-jljnNDpgv",
        "outputId": "ac1146b8-69a1-4f35-b054-88f5eef3e747"
      },
      "outputs": [
        {
          "output_type": "stream",
          "name": "stdout",
          "text": [
            "[64, 256, 576, 1024, 1600, 2304, 3136, 4096, 5184, 6400, 7744, 9216, 10816, 12544, 14400, 16384, 18496, 20736, 23104, 25600, 28224, 30976, 33856, 36864, 40000, 43264, 46656, 50176, 53824, 57600, 61504, 65536, 69696, 73984, 78400, 82944, 87616, 92416, 97344, 102400, 107584, 112896, 118336, 123904, 129600, 135424, 141376, 147456, 153664, 160000, 166464, 173056, 179776, 186624, 193600, 200704, 207936, 215296, 222784, 230400, 238144, 246016, 254016, 262144, 270400, 278784, 287296, 295936, 304704, 313600, 322624, 331776, 341056, 350464, 360000, 369664, 379456, 389376, 399424, 409600, 419904, 430336, 440896, 451584, 462400, 473344, 484416, 495616, 506944, 518400, 529984, 541696, 553536, 565504, 577600, 589824, 602176, 614656, 627264, 640000, 652864, 665856, 678976, 692224, 705600, 719104, 732736, 746496, 760384, 774400, 788544, 802816, 817216, 831744, 846400, 861184, 876096, 891136, 906304, 921600, 937024, 952576, 968256, 984064]\n"
          ]
        }
      ],
      "source": [
        "\n",
        "multiples_of_8_squares = [i**2 for i in range(8, 1000, 8)]\n",
        "\n",
        "\n",
        "print(multiples_of_8_squares)\n"
      ]
    },
    {
      "cell_type": "markdown",
      "metadata": {
        "id": "azGtGuxuDpgw"
      },
      "source": [
        "## People"
      ]
    },
    {
      "cell_type": "code",
      "execution_count": null,
      "metadata": {
        "id": "EPome1s8Dpgw"
      },
      "outputs": [],
      "source": [
        "people = [\n",
        "    {\n",
        "        \"name\": \"Juan\",\n",
        "        \"age\": 34,\n",
        "        \"n_kids\": 2\n",
        "    },\n",
        "    {\n",
        "        \"name\": \"Pepe\",\n",
        "        \"age\": 27,\n",
        "        \"n_kids\": 0\n",
        "    },\n",
        "    {\n",
        "        \"name\": \"Sonia\",\n",
        "        \"age\": 41,\n",
        "        \"n_kids\": 1\n",
        "    },\n",
        "    {\n",
        "        \"name\": \"Lucía\",\n",
        "        \"age\": 22,\n",
        "        \"n_kids\": 2\n",
        "    },\n",
        "    {\n",
        "        \"name\": \"Leo\",\n",
        "        \"age\": 55,\n",
        "        \"n_kids\": 5\n",
        "    }\n",
        "]"
      ]
    },
    {
      "cell_type": "markdown",
      "metadata": {
        "id": "6wSBNibGDpgw"
      },
      "source": [
        "**How many people are there?**"
      ]
    },
    {
      "cell_type": "code",
      "execution_count": 11,
      "metadata": {
        "colab": {
          "base_uri": "https://localhost:8080/"
        },
        "id": "KL5EGcKrDpgx",
        "outputId": "314bcab5-963d-40c3-94c7-1daa0263b772"
      },
      "outputs": [
        {
          "output_type": "stream",
          "name": "stdout",
          "text": [
            "5\n"
          ]
        }
      ],
      "source": [
        "people = [\n",
        "    {\"name\": \"Juan\", \"age\": 34, \"n_kids\": 2},\n",
        "    {\"name\": \"Pepe\", \"age\": 27, \"n_kids\": 0},\n",
        "    {\"name\": \"Sonia\", \"age\": 41, \"n_kids\": 1},\n",
        "    {\"name\": \"Lucía\", \"age\": 22, \"n_kids\": 2},\n",
        "    {\"name\": \"Leo\", \"age\": 55, \"n_kids\": 5}\n",
        "]\n",
        "\n",
        "\n",
        "number_of_people = len(people)\n",
        "\n",
        "print(number_of_people)\n"
      ]
    },
    {
      "cell_type": "markdown",
      "metadata": {
        "id": "V64j0J9-Dpgx"
      },
      "source": [
        "**How many people have kids**?"
      ]
    },
    {
      "cell_type": "code",
      "execution_count": 12,
      "metadata": {
        "colab": {
          "base_uri": "https://localhost:8080/"
        },
        "id": "siX5uDv0Dpgx",
        "outputId": "652308a0-8316-45e1-a0db-adf2b006fa82"
      },
      "outputs": [
        {
          "output_type": "stream",
          "name": "stdout",
          "text": [
            "4\n"
          ]
        }
      ],
      "source": [
        "people = [\n",
        "    {\"name\": \"Juan\", \"age\": 34, \"n_kids\": 2},\n",
        "    {\"name\": \"Pepe\", \"age\": 27, \"n_kids\": 0},\n",
        "    {\"name\": \"Sonia\", \"age\": 41, \"n_kids\": 1},\n",
        "    {\"name\": \"Lucía\", \"age\": 22, \"n_kids\": 2},\n",
        "    {\"name\": \"Leo\", \"age\": 55, \"n_kids\": 5}\n",
        "]\n",
        "\n",
        "people_with_kids = len([person for person in people if person['n_kids'] > 0])\n",
        "\n",
        "print(people_with_kids)\n"
      ]
    },
    {
      "cell_type": "markdown",
      "metadata": {
        "id": "GdhQocKGDpgx"
      },
      "source": [
        "**How many kids do they have in total?**"
      ]
    },
    {
      "cell_type": "code",
      "execution_count": 13,
      "metadata": {
        "colab": {
          "base_uri": "https://localhost:8080/"
        },
        "id": "65mGBkOaDpgx",
        "outputId": "28c9989a-fe78-4aa4-b438-219387abf346"
      },
      "outputs": [
        {
          "output_type": "stream",
          "name": "stdout",
          "text": [
            "10\n"
          ]
        }
      ],
      "source": [
        "people = [\n",
        "    {\"name\": \"Juan\", \"age\": 34, \"n_kids\": 2},\n",
        "    {\"name\": \"Pepe\", \"age\": 27, \"n_kids\": 0},\n",
        "    {\"name\": \"Sonia\", \"age\": 41, \"n_kids\": 1},\n",
        "    {\"name\": \"Lucía\", \"age\": 22, \"n_kids\": 2},\n",
        "    {\"name\": \"Leo\", \"age\": 55, \"n_kids\": 5}\n",
        "]\n",
        "\n",
        "\n",
        "total_kids = sum(person['n_kids'] for person in people if person['n_kids'] > 0)\n",
        "\n",
        "print(total_kids)\n"
      ]
    },
    {
      "cell_type": "markdown",
      "metadata": {
        "id": "n_HN1i4HDpgx"
      },
      "source": [
        "**In a year's time, names ending with \"a\" will have an extra kid. Create a list of dictionaries with people's info in a year's time**"
      ]
    },
    {
      "cell_type": "code",
      "execution_count": 14,
      "metadata": {
        "colab": {
          "base_uri": "https://localhost:8080/"
        },
        "id": "WyiassLhDpgx",
        "outputId": "265c7fce-1c92-45b4-97f4-ae6b90ff9163"
      },
      "outputs": [
        {
          "output_type": "stream",
          "name": "stdout",
          "text": [
            "[{'name': 'Juan', 'age': 35, 'n_kids': 2}, {'name': 'Pepe', 'age': 28, 'n_kids': 0}, {'name': 'Sonia', 'age': 42, 'n_kids': 2}, {'name': 'Lucía', 'age': 23, 'n_kids': 3}, {'name': 'Leo', 'age': 56, 'n_kids': 5}]\n"
          ]
        }
      ],
      "source": [
        "people = [\n",
        "    {\"name\": \"Juan\", \"age\": 34, \"n_kids\": 2},\n",
        "    {\"name\": \"Pepe\", \"age\": 27, \"n_kids\": 0},\n",
        "    {\"name\": \"Sonia\", \"age\": 41, \"n_kids\": 1},\n",
        "    {\"name\": \"Lucía\", \"age\": 22, \"n_kids\": 2},\n",
        "    {\"name\": \"Leo\", \"age\": 55, \"n_kids\": 5}\n",
        "]\n",
        "\n",
        "people_in_a_year = [\n",
        "    {\n",
        "        \"name\": person[\"name\"],\n",
        "        \"age\": person[\"age\"] + 1,\n",
        "        \"n_kids\": person[\"n_kids\"] + 1 if person[\"name\"].endswith(\"a\") else person[\"n_kids\"]\n",
        "    }\n",
        "    for person in people\n",
        "]\n",
        "\n",
        "\n",
        "print(people_in_a_year)\n"
      ]
    }
  ],
  "metadata": {
    "kernelspec": {
      "display_name": "Python 3 (ipykernel)",
      "language": "python",
      "name": "python3"
    },
    "language_info": {
      "codemirror_mode": {
        "name": "ipython",
        "version": 3
      },
      "file_extension": ".py",
      "mimetype": "text/x-python",
      "name": "python",
      "nbconvert_exporter": "python",
      "pygments_lexer": "ipython3",
      "version": "3.9.13"
    },
    "toc": {
      "base_numbering": 1,
      "nav_menu": {},
      "number_sections": false,
      "sideBar": true,
      "skip_h1_title": false,
      "title_cell": "Table of Contents",
      "title_sidebar": "Contents",
      "toc_cell": false,
      "toc_position": {},
      "toc_section_display": true,
      "toc_window_display": true
    },
    "varInspector": {
      "cols": {
        "lenName": 16,
        "lenType": 16,
        "lenVar": 40
      },
      "kernels_config": {
        "python": {
          "delete_cmd_postfix": "",
          "delete_cmd_prefix": "del ",
          "library": "var_list.py",
          "varRefreshCmd": "print(var_dic_list())"
        },
        "r": {
          "delete_cmd_postfix": ") ",
          "delete_cmd_prefix": "rm(",
          "library": "var_list.r",
          "varRefreshCmd": "cat(var_dic_list()) "
        }
      },
      "types_to_exclude": [
        "module",
        "function",
        "builtin_function_or_method",
        "instance",
        "_Feature"
      ],
      "window_display": false
    },
    "vscode": {
      "interpreter": {
        "hash": "aee8b7b246df8f9039afb4144a1f6fd8d2ca17a180786b69acc140d282b71a49"
      }
    },
    "colab": {
      "provenance": []
    }
  },
  "nbformat": 4,
  "nbformat_minor": 0
}